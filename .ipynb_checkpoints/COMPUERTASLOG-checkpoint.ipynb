{
 "cells": [
  {
   "cell_type": "code",
   "execution_count": 1,
   "metadata": {},
   "outputs": [],
   "source": [
    "# import Python Libraries \n",
    "import numpy as np \n",
    "from matplotlib import pyplot as plt"
   ]
  },
  {
   "cell_type": "code",
   "execution_count": 2,
   "metadata": {},
   "outputs": [],
   "source": [
    "# Sigmoid Function \n",
    "def sigmoid(z): \n",
    "    return 1 / (1 + np.exp(-z)) "
   ]
  },
  {
   "cell_type": "code",
   "execution_count": 3,
   "metadata": {},
   "outputs": [],
   "source": [
    "# Initialization of the neural network parameters \n",
    "# Initialized all the weights in the range of between 0 and 1 \n",
    "# Bias values are initialized to 0 \n",
    "def initializeParameters(inputFeatures, neuronsInHiddenLayers, outputFeatures): \n",
    "    W1 = np.random.randn(neuronsInHiddenLayers, inputFeatures) \n",
    "    W2 = np.random.randn(outputFeatures, neuronsInHiddenLayers) \n",
    "    b1 = np.zeros((neuronsInHiddenLayers, 1)) \n",
    "    b2 = np.zeros((outputFeatures, 1)) \n",
    " \n"
   ]
  },
  {
   "cell_type": "code",
   "execution_count": 4,
   "metadata": {},
   "outputs": [],
   "source": [
    "# Initialization of the neural network parameters \n",
    "# Initialized all the weights in the range of between 0 and 1 \n",
    "# Bias values are initialized to 0 \n",
    "def initializeParameters(inputFeatures, neuronsInHiddenLayers, outputFeatures): \n",
    "    W1OR = np.random.randn(neuronsInHiddenLayers, inputFeatures) \n",
    "    W2OR = np.random.randn(outputFeatures, neuronsInHiddenLayers) \n",
    "    b1OR = np.zeros((neuronsInHiddenLayers, 1)) \n",
    "    b2OR = np.zeros((outputFeatures, 1)) \n",
    "      \n",
    "    parametersOR = {\"W1OR\" : W1OR, \"b1OR\": b1OR, \n",
    "                  \"W2OR\" : W2OR, \"b2OR\": b2OR} \n",
    "    return parametersOR "
   ]
  },
  {
   "cell_type": "code",
   "execution_count": 5,
   "metadata": {},
   "outputs": [],
   "source": [
    "# Initialization of the neural network parameters \n",
    "# Initialized all the weights in the range of between 0 and 1 \n",
    "# Bias values are initialized to 0 \n",
    "def initializeParameters(inputFeatures, neuronsInHiddenLayers, outputFeatures): \n",
    "    W1NAND = np.random.randn(neuronsInHiddenLayers, inputFeatures) \n",
    "    W2NAND = np.random.randn(outputFeatures, neuronsInHiddenLayers) \n",
    "    b1NAND = np.zeros((neuronsInHiddenLayers, 1)) \n",
    "    b2NAND = np.zeros((outputFeatures, 1)) \n",
    "      \n",
    "    parametersNAND = {\"W1NAND\" : W1NAND, \"b1NAND\": b1NAND, \n",
    "                  \"W2NAND\" : W2NAND, \"b2NAND\": b2NAND} \n",
    "    return parametersNAND "
   ]
  },
  {
   "cell_type": "code",
   "execution_count": 6,
   "metadata": {},
   "outputs": [],
   "source": [
    "# Initialization of the neural network parameters \n",
    "# Initialized all the weights in the range of between 0 and 1 \n",
    "# Bias values are initialized to 0 \n",
    "def initializeParameters(inputFeatures, neuronsInHiddenLayers, outputFeatures): \n",
    "    W1NOR = np.random.randn(neuronsInHiddenLayers, inputFeatures) \n",
    "    W2NOR = np.random.randn(outputFeatures, neuronsInHiddenLayers) \n",
    "    b1NOR = np.zeros((neuronsInHiddenLayers, 1)) \n",
    "    b2NOR = np.zeros((outputFeatures, 1)) \n",
    "      \n",
    "    parametersNOR = {\"W1NOR\" : W1NOR, \"b1NOR\": b1NOR, \n",
    "                  \"W2NOR\" : W2NOR, \"b2NOR\": b2NOR} \n",
    "    return parametersNOR "
   ]
  },
  {
   "cell_type": "code",
   "execution_count": 7,
   "metadata": {},
   "outputs": [],
   "source": [
    "# Forward Propagation \n",
    "def forwardPropagation(X, Y, parameters): \n",
    "    m = X.shape[1] \n",
    "    W1 = parameters[\"W1\"] \n",
    "    W2 = parameters[\"W2\"] \n",
    "    b1 = parameters[\"b1\"] \n",
    "    b2 = parameters[\"b2\"] \n",
    "  \n",
    "    Z1 = np.dot(W1, X) + b1 \n",
    "    A1 = sigmoid(Z1) \n",
    "    Z2 = np.dot(W2, A1) + b2 \n",
    "    A2 = sigmoid(Z2) \n",
    "  \n",
    "    cache = (Z1, A1, W1, b1, Z2, A2, W2, b2) \n",
    "    logprobs = np.multiply(np.log(A2), Y) + np.multiply(np.log(1 - A2), (1 - Y)) \n",
    "    cost = -np.sum(logprobs) / m \n",
    "    return cost, cache, A2 "
   ]
  },
  {
   "cell_type": "code",
   "execution_count": 8,
   "metadata": {},
   "outputs": [],
   "source": [
    "# Forward Propagation \n",
    "def forwardPropagation(XOR, YOR, parametersOR): \n",
    "    mOR = XOR.shape[1] \n",
    "    W1OR = parametersOR[\"W1OR\"] \n",
    "    W2OR = parametersOR[\"W2OR\"] \n",
    "    b1OR = parametersOR[\"b1OR\"] \n",
    "    b2OR = parametersOR[\"b2OR\"] \n",
    "\n",
    "    Z1OR = np.dot(W1OR, XOR) + b1OR \n",
    "    A1OR = sigmoid(Z1OR) \n",
    "    Z2OR = np.dot(W2OR, A1OR) + b2OR \n",
    "    A2OR = sigmoid(Z2OR) \n",
    "  \n",
    "    cache = (Z1OR, A1OR, W1OR, b1OR, Z2OR, A2OR, W2OR, b2OR) \n",
    "    logprobsOR = np.multiply(np.log(A2OR), YOR) + np.multiply(np.log(1 - A2OR), (1 - YOR)) \n",
    "    costOR = -np.sum(logprobsOR) / mOR \n",
    "    return costOR, cache, A2OR"
   ]
  },
  {
   "cell_type": "code",
   "execution_count": 9,
   "metadata": {},
   "outputs": [],
   "source": [
    "# Forward Propagation \n",
    "def forwardPropagation(XNAND, YNAND, parametersNAND): \n",
    "    mNAND = XNAND.shape[1] \n",
    "    W1NAND = parametersNAND[\"W1NAND\"] \n",
    "    W2NAND = parametersNAND[\"W2NAND\"] \n",
    "    b1NAND = parametersNAND[\"b1NAND\"] \n",
    "    b2NAND = parametersNAND[\"b2NAND\"] \n",
    "  \n",
    "    Z1NAND = np.dot(W1NAND, XNAND) + b1NAND \n",
    "    A1NAND = sigmoid(Z1NAND) \n",
    "    Z2NAND = np.dot(W2NAND, A1NAND) + b2NAND \n",
    "    A2NAND = sigmoid(Z2NAND) \n",
    "  \n",
    "    cache = (Z1NAND, A1NAND, W1NAND, b1NAND, Z2NAND, A2NAND, W2NAND, b2NAND) \n",
    "    logprobsNAND = np.multiply(np.log(A2NAND), YNAND) + np.multiply(np.log(1 - A2NAND), (1 - YNAND)) \n",
    "    costNAND = -np.sum(logprobsNAND) / mNAND \n",
    "    return costNAND, cache, A2NAND "
   ]
  },
  {
   "cell_type": "code",
   "execution_count": 10,
   "metadata": {},
   "outputs": [],
   "source": [
    "# Forward Propagation \n",
    "def forwardPropagation(XNOR, YNOR, parametersNOR): \n",
    "    mNOR = XNOR.shape[1] \n",
    "    W1NOR = parametersNOR[\"W1NOR\"] \n",
    "    W2NOR = parametersNOR[\"W2NOR\"] \n",
    "    b1NOR = parametersNOR[\"b1NOR\"] \n",
    "    b2NOR = parametersNOR[\"b2NOR\"] \n",
    "  \n",
    "    Z1NOR = np.dot(W1NOR, XNOR) + b1NOR \n",
    "    A1NOR = sigmoid(Z1NOR) \n",
    "    Z2NOR = np.dot(W2NOR, A1NOR) + b2NOR \n",
    "    A2NOR = sigmoid(Z2NOR) \n",
    "  \n",
    "    cache = (Z1NOR, A1NOR, W1NOR, b1NOR, Z2NOR, A2NOR, W2NOR, b2NOR) \n",
    "    logprobsNOR = np.multiply(np.log(A2NOR), YNOR) + np.multiply(np.log(1 - A2NOR), (1 - YNOR)) \n",
    "    costNOR = -np.sum(logprobsNOR) / mNOR \n",
    "    return costNOR, cache, A2NOR "
   ]
  },
  {
   "cell_type": "code",
   "execution_count": 11,
   "metadata": {},
   "outputs": [],
   "source": [
    "# Backward Propagation \n",
    "def backwardPropagation(X, Y, cache): \n",
    "    m = X.shape[1] \n",
    "    (Z1, A1, W1, b1, Z2, A2, W2, b2) = cache \n",
    "      \n",
    "    dZ2 = A2 - Y \n",
    "    dW2 = np.dot(dZ2, A1.T) / m \n",
    "    db2 = np.sum(dZ2, axis = 1, keepdims = True) \n",
    "      \n",
    "    dA1 = np.dot(W2.T, dZ2) \n",
    "    dZ1 = np.multiply(dA1, A1 * (1- A1)) \n",
    "    dW1 = np.dot(dZ1, X.T) / m \n",
    "    db1 = np.sum(dZ1, axis = 1, keepdims = True) / m \n",
    "      \n",
    "    gradients = {\"dZ2\": dZ2, \"dW2\": dW2, \"db2\": db2, \n",
    "                 \"dZ1\": dZ1, \"dW1\": dW1, \"db1\": db1} \n",
    "    return gradients "
   ]
  },
  {
   "cell_type": "code",
   "execution_count": 12,
   "metadata": {},
   "outputs": [],
   "source": [
    "# Backward Propagation \n",
    "def backwardPropagation(XOR, YOR, cache): \n",
    "    mOR = XOR.shape[1] \n",
    "    (Z1OR, A1OR, W1OR, b1OR, Z2OR, A2OR, W2OR, b2OR) = cache \n",
    "      \n",
    "    dZ2OR = A2OR - YOR \n",
    "    dW2OR = np.dot(dZ2OR, A1OR.T) / mOR \n",
    "    db2OR = np.sum(dZ2OR, axis = 1, keepdims = True) \n",
    "      \n",
    "    dA1OR = np.dot(W2OR.T, dZ2OR) \n",
    "    dZ1OR = np.multiply(dA1OR, A1OR * (1- A1OR)) \n",
    "    dW1OR = np.dot(dZ1OR, XOR.T) / mOR \n",
    "    db1OR = np.sum(dZ1OR, axis = 1, keepdims = True) / mOR \n",
    "      \n",
    "    gradientsOR = {\"dZ2OR\": dZ2OR, \"dW2OR\": dW2OR, \"db2OR\": db2OR, \n",
    "                 \"dZ1OR\": dZ1OR, \"dW1OR\": dW1OR, \"db1OR\": db1OR} \n",
    "    return gradientsOR "
   ]
  },
  {
   "cell_type": "code",
   "execution_count": 13,
   "metadata": {},
   "outputs": [],
   "source": [
    "# Backward Propagation \n",
    "def backwardPropagation(XNAND, YNAND, cache): \n",
    "    mNAND = XNAND.shape[1] \n",
    "    (Z1NAND, A1NAND, W1NAND, b1NAND, Z2NAND, A2NAND, W2NAND, b2NAND) = cache \n",
    "      \n",
    "    dZ2NAND = A2NAND - YNAND \n",
    "    dW2NAND = np.dot(dZ2NAND, A1NAND.T) / mNAND \n",
    "    db2NAND = np.sum(dZ2NAND, axis = 1, keepdims = True) \n",
    "      \n",
    "    dA1NAND = np.dot(W2NAND.T, dZ2NAND) \n",
    "    dZ1NAND = np.multiply(dA1NAND, A1NAND * (1- A1NAND)) \n",
    "    dW1NAND = np.dot(dZ1NAND, XNAND.T) / mNAND \n",
    "    db1NAND = np.sum(dZ1NAND, axis = 1, keepdims = True) / mNAND \n",
    "      \n",
    "    gradientsNAND = {\"dZ2NAND\": dZ2NAND, \"dW2NAND\": dW2NAND, \"db2NAND\": db2NAND, \n",
    "                 \"dZ1NAND\": dZ1NAND, \"dW1NAND\": dW1NAND, \"db1NAND\": db1NAND} \n",
    "    return gradientsNAND"
   ]
  },
  {
   "cell_type": "code",
   "execution_count": 14,
   "metadata": {},
   "outputs": [],
   "source": [
    "# Backward Propagation \n",
    "def backwardPropagation(XNOR, YNOR, cache): \n",
    "    mNOR = XNOR.shape[1] \n",
    "    (Z1NOR, A1NOR, W1NOR, b1NOR, Z2NOR, A2NOR, W2NOR, b2NOR) = cache \n",
    "      \n",
    "    dZ2NOR = A2NOR - YNOR \n",
    "    dW2NOR = np.dot(dZ2NOR, A1NOR.T) / mNOR \n",
    "    db2NOR = np.sum(dZ2NOR, axis = 1, keepdims = True) \n",
    "      \n",
    "    dA1NOR = np.dot(W2NOR.T, dZ2NOR) \n",
    "    dZ1NOR = np.multiply(dA1NOR, A1NOR * (1- A1NOR)) \n",
    "    dW1NOR = np.dot(dZ1NOR, XNOR.T) / mNOR \n",
    "    db1NOR = np.sum(dZ1NOR, axis = 1, keepdims = True) / mNOR \n",
    "      \n",
    "    gradientsNOR = {\"dZ2NOR\": dZ2NOR, \"dW2NOR\": dW2NOR, \"db2NOR\": db2NOR, \n",
    "                 \"dZ1NOR\": dZ1NOR, \"dW1NOR\": dW1NOR, \"db1NOR\": db1NOR} \n",
    "    return gradientsNOR "
   ]
  },
  {
   "cell_type": "code",
   "execution_count": 15,
   "metadata": {},
   "outputs": [],
   "source": [
    "# Updating the weights based on the negative gradients \n",
    "def updateParameters(parameters, gradients, learningRate): \n",
    "    parameters[\"W1\"] = parameters[\"W1\"] - learningRate * gradients[\"dW1\"] \n",
    "    parameters[\"W2\"] = parameters[\"W2\"] - learningRate * gradients[\"dW2\"] \n",
    "    parameters[\"b1\"] = parameters[\"b1\"] - learningRate * gradients[\"db1\"] \n",
    "    parameters[\"b2\"] = parameters[\"b2\"] - learningRate * gradients[\"db2\"] \n",
    "    return parameters "
   ]
  },
  {
   "cell_type": "code",
   "execution_count": 16,
   "metadata": {},
   "outputs": [],
   "source": [
    "# Updating the weights based on the negative gradients \n",
    "def updateParameters(parametersOR, gradientsOR, learningRateOR): \n",
    "    parametersOR[\"W1OR\"] = parametersOR[\"W1OR\"] - learningRateOR * gradientsOR[\"dW1OR\"] \n",
    "    parametersOR[\"W2OR\"] = parametersOR[\"W2OR\"] - learningRateOR * gradientsOR[\"dW2OR\"] \n",
    "    parametersOR[\"b1OR\"] = parametersOR[\"b1OR\"] - learningRateOR * gradientsOR[\"db1OR\"] \n",
    "    parametersOR[\"b2OR\"] = parametersOR[\"b2OR\"] - learningRateOR * gradientsOR[\"db2OR\"] \n",
    "    return parametersOR "
   ]
  },
  {
   "cell_type": "code",
   "execution_count": 17,
   "metadata": {},
   "outputs": [],
   "source": [
    "# Updating the weights based on the negative gradients \n",
    "def updateParameters(parametersNAND, gradientsNAND, learningRateNAND): \n",
    "    parametersNAND[\"W1NAND\"] = parametersNAND[\"W1NAND\"] - learningRateNAND * gradientsNAND[\"dW1NAND\"] \n",
    "    parametersNAND[\"W2NAND\"] = parametersNAND[\"W2NAND\"] - learningRateNAND * gradientsNAND[\"dW2NAND\"] \n",
    "    parametersNAND[\"b1NAND\"] = parametersNAND[\"b1NAND\"] - learningRateNAND * gradientsNAND[\"db1NAND\"] \n",
    "    parametersNAND[\"b2NAND\"] = parametersNAND[\"b2NAND\"] - learningRateNAND * gradientsNAND[\"db2NAND\"] \n",
    "    return parametersNAND"
   ]
  },
  {
   "cell_type": "code",
   "execution_count": 18,
   "metadata": {},
   "outputs": [],
   "source": [
    "# Updating the weights based on the negative gradients \n",
    "def updateParameters(parametersNOR, gradientsNOR, learningRateNOR): \n",
    "    parametersNOR[\"W1NOR\"] = parametersNOR[\"W1NOR\"] - learningRateNOR * gradientsNOR[\"dW1NOR\"] \n",
    "    parametersNOR[\"W2NOR\"] = parametersNOR[\"W2NOR\"] - learningRateNOR * gradientsNOR[\"dW2NOR\"] \n",
    "    parametersNOR[\"b1NOR\"] = parametersNOR[\"b1NOR\"] - learningRateNOR * gradientsNOR[\"db1NOR\"] \n",
    "    parametersNOR[\"b2NOR\"] = parametersNOR[\"b2NOR\"] - learningRateNOR * gradientsNOR[\"db2NOR\"] \n",
    "    return parametersNOR"
   ]
  },
  {
   "cell_type": "code",
   "execution_count": 19,
   "metadata": {},
   "outputs": [],
   "source": [
    "# Model to learn the AND truth table  \n",
    "X = np.array([[0, 0, 1, 1], [0, 1, 0, 1]]) # AND input \n",
    "Y = np.array([[0, 0, 0, 1]]) # AND output "
   ]
  },
  {
   "cell_type": "code",
   "execution_count": 20,
   "metadata": {},
   "outputs": [],
   "source": [
    "# Model to learn the OR truth table  \n",
    "XOR = np.array([[0, 0, 1, 1], [0, 1, 0, 1]]) # OR input \n",
    "YOR = np.array([[0, 1, 1, 1]]) # OR output "
   ]
  },
  {
   "cell_type": "code",
   "execution_count": 21,
   "metadata": {},
   "outputs": [],
   "source": [
    "# Model to learn the NAND truth table  \n",
    "XNAND = np.array([[0, 0, 1, 1], [0, 1, 0, 1]]) # NAND input \n",
    "YNAND = np.array([[1, 1, 1, 0]]) # NAND output "
   ]
  },
  {
   "cell_type": "code",
   "execution_count": 22,
   "metadata": {},
   "outputs": [],
   "source": [
    "# Model to learn the AND truth table  \n",
    "XNOR = np.array([[0, 0, 1, 1], [0, 1, 0, 1]]) # AND input \n",
    "YNOR = np.array([[1, 0, 0, 0]]) # AND output"
   ]
  },
  {
   "cell_type": "code",
   "execution_count": 23,
   "metadata": {},
   "outputs": [],
   "source": [
    "# Define model parameters \n",
    "neuronsInHiddenLayers = 2 # number of hidden layer neurons (2) \n",
    "inputFeatures = X.shape[0] # number of input features (2) \n",
    "outputFeatures = Y.shape[0] # number of output features (1) \n",
    "parameters = initializeParameters(inputFeatures, neuronsInHiddenLayers, outputFeatures) \n",
    "epoch = 100000\n",
    "learningRate = 0.01\n",
    "losses = np.zeros((epoch, 1)) \n",
    "\n",
    "for i in range(epoch): \n",
    "    losses[i, 0], cache, A2 = forwardPropagation(X, Y, parameters) \n",
    "    gradients = backwardPropagation(X, Y, cache) \n",
    "    parameters = updateParameters(parameters, gradients, learningRate)"
   ]
  },
  {
   "cell_type": "code",
   "execution_count": 24,
   "metadata": {},
   "outputs": [],
   "source": [
    "# Define model parameters \n",
    "neuronsInHiddenLayers = 2 # number of hidden layer neurons (2) \n",
    "inputFeatures = XOR.shape[0] # number of input features (2) \n",
    "outputFeatures = YOR.shape[0] # number of output features (1) \n",
    "parametersOR = initializeParameters(inputFeatures, neuronsInHiddenLayers, outputFeatures) \n",
    "epoch = 400\n",
    "learningRateOR = 0.01\n",
    "losses = np.zeros((epoch, 1)) \n",
    "  \n",
    "for i in range(epoch): \n",
    "    losses[i, 0], cache, A2OR = forwardPropagation(XOR, YOR, parametersOR) \n",
    "    gradientsOR = backwardPropagation(XOR, YOR, cache) \n",
    "    parametersOR = updateParameters(parametersOR, gradientsOR, learningRateOR)"
   ]
  },
  {
   "cell_type": "code",
   "execution_count": 25,
   "metadata": {},
   "outputs": [],
   "source": [
    "# Define model parameters \n",
    "neuronsInHiddenLayers = 2 # number of hidden layer neurons (2) \n",
    "inputFeatures = XNAND.shape[0] # number of input features (2) \n",
    "outputFeatures = YNAND.shape[0] # number of output features (1) \n",
    "parametersNAND = initializeParameters(inputFeatures, neuronsInHiddenLayers, outputFeatures) \n",
    "epoch = 400\n",
    "learningRateNAND = 0.01\n",
    "losses = np.zeros((epoch, 1)) \n",
    "  \n",
    "for i in range(epoch): \n",
    "    losses[i, 0], cache, A2NAND = forwardPropagation(XNAND, YNAND, parametersNAND) \n",
    "    gradientsNAND = backwardPropagation(XNAND, YNAND, cache) \n",
    "    parametersNAND = updateParameters(parametersNAND, gradientsNAND, learningRateNAND) "
   ]
  },
  {
   "cell_type": "code",
   "execution_count": 26,
   "metadata": {},
   "outputs": [],
   "source": [
    "# Define model parameters \n",
    "neuronsInHiddenLayers = 2 # number of hidden layer neurons (2) \n",
    "inputFeatures = XNOR.shape[0] # number of input features (2) \n",
    "outputFeatures = YNOR.shape[0] # number of output features (1) \n",
    "parametersNOR = initializeParameters(inputFeatures, neuronsInHiddenLayers, outputFeatures) \n",
    "epoch = 400\n",
    "learningRateNOR = 0.01\n",
    "losses = np.zeros((epoch, 1)) \n",
    "  \n",
    "for i in range(epoch): \n",
    "    losses[i, 0], cache, A2NOR = forwardPropagation(XNOR, YNOR, parametersNOR) \n",
    "    gradientsNOR = backwardPropagation(XNOR, YNOR, cache) \n",
    "    parametersNOR = updateParameters(parametersNOR, gradientsNOR, learningRateNOR) "
   ]
  },
  {
   "cell_type": "code",
   "execution_count": 27,
   "metadata": {},
   "outputs": [
    {
     "data": {
      "image/png": "[encoded data removed]",
      "text/plain": [
       "<Figure size 432x288 with 1 Axes>"
      ]
     },
     "metadata": {
      "needs_background": "light"
     },
     "output_type": "display_data"
    },
    {
     "name": "stdout",
     "output_type": "stream",
     "text": [
      "[[0.7296739  0.75828494 0.74749597 0.77306735]]\n",
      "[[0. 1. 0. 0.]]\n"
     ]
    }
   ],
   "source": [
    "# Evaluating the performance \n",
    "plt.figure() \n",
    "plt.plot(losses) \n",
    "plt.xlabel(\"EPOCHS\") \n",
    "plt.ylabel(\"Loss value\") \n",
    "plt.show() \n",
    "  \n",
    "# Testing \n",
    "X = np.array([[1, 1, 0, 0], [0, 1, 0, 1]]) # AND input \n",
    "cost, _, A2 = forwardPropagation(X, Y, parameters) \n",
    "prediction = (A2 > 0.5) * 1.0\n",
    "print(A2OR) \n",
    "print(prediction) "
   ]
  },
  {
   "cell_type": "code",
   "execution_count": 28,
   "metadata": {},
   "outputs": [
    {
     "data": {
      "image/png": "[encoded data removed]",
      "text/plain": [
       "<Figure size 432x288 with 1 Axes>"
      ]
     },
     "metadata": {
      "needs_background": "light"
     },
     "output_type": "display_data"
    },
    {
     "name": "stdout",
     "output_type": "stream",
     "text": [
      "[[0.74752375 0.77310755 0.72968346 0.75831255]]\n",
      "[[1. 1. 1. 1.]]\n"
     ]
    }
   ],
   "source": [
    "# Evaluating the performance \n",
    "plt.figure() \n",
    "plt.plot(losses) \n",
    "plt.xlabel(\"EPOCHS\") \n",
    "plt.ylabel(\"Loss value\") \n",
    "plt.show() \n",
    "  \n",
    "# Testing \n",
    "XOR = np.array([[1, 1, 0, 0], [0, 1, 0, 1]]) # AND input \n",
    "costOR, _, A2OR = forwardPropagation(XOR, YOR, parametersOR) \n",
    "prediction = (A2OR > 0.5) * 1.0\n",
    "print(A2OR) \n",
    "print(prediction) "
   ]
  },
  {
   "cell_type": "code",
   "execution_count": 29,
   "metadata": {},
   "outputs": [
    {
     "data": {
      "image/png": "[encoded data removed]",
      "text/plain": [
       "<Figure size 432x288 with 1 Axes>"
      ]
     },
     "metadata": {
      "needs_background": "light"
     },
     "output_type": "display_data"
    },
    {
     "name": "stdout",
     "output_type": "stream",
     "text": [
      "[[0.75774278 0.7421182  0.74092609 0.72388629]]\n",
      "[[1. 1. 1. 1.]]\n"
     ]
    }
   ],
   "source": [
    "# Evaluating the performance \n",
    "plt.figure() \n",
    "plt.plot(losses) \n",
    "plt.xlabel(\"EPOCHS\") \n",
    "plt.ylabel(\"Loss value\") \n",
    "plt.show() \n",
    "  \n",
    "# Testing \n",
    "XNAND = np.array([[1, 1, 0, 0], [0, 1, 0, 1]]) # NAND input \n",
    "costNAND, _, A2NAND = forwardPropagation(XNAND, YNAND, parametersNAND) \n",
    "prediction = (A2NAND > 0.5) * 1.0\n",
    "print(A2NAND) \n",
    "print(prediction)"
   ]
  },
  {
   "cell_type": "code",
   "execution_count": 30,
   "metadata": {
    "scrolled": true
   },
   "outputs": [
    {
     "data": {
      "image/png": "[encoded data removed]",
      "text/plain": [
       "<Figure size 432x288 with 1 Axes>"
      ]
     },
     "metadata": {
      "needs_background": "light"
     },
     "output_type": "display_data"
    },
    {
     "name": "stdout",
     "output_type": "stream",
     "text": [
      "[[0.27110886 0.273927   0.24373948 0.24811547]]\n",
      "[[0. 0. 0. 0.]]\n"
     ]
    }
   ],
   "source": [
    "# Evaluating the performance \n",
    "plt.figure() \n",
    "plt.plot(losses) \n",
    "plt.xlabel(\"EPOCHS\") \n",
    "plt.ylabel(\"Loss value\") \n",
    "plt.show()\n",
    "# Testing \n",
    "XNOR = np.array([[1, 1, 0, 0], [0, 1, 0, 1]]) # NOR input \n",
    "costNOR, _, A2NOR = forwardPropagation(XNOR, YNOR, parametersNOR) \n",
    "prediction = (A2NOR > 0.5) * 1.0\n",
    "print(A2NOR) \n",
    "print(prediction)"
   ]
  },
  {
   "cell_type": "code",
   "execution_count": 47,
   "metadata": {},
   "outputs": [
    {
     "name": "stdout",
     "output_type": "stream",
     "text": [
      " Ejercicio 1 Practica 2 Python \n",
      "\n",
      "(X1 and X2)\n",
      "[[0. 1. 0. 0.]]\n"
     ]
    }
   ],
   "source": [
    "#((X1 and X2) \n",
    "# Testing  AND\n",
    "\n",
    "x1 =[1, 1, 0, 0]\n",
    "x2=[0, 1, 0, 1]\n",
    "X = np.array([x1,x2]) # AND input \n",
    "cost, _, A2 = forwardPropagation(X, Y, parameters) \n",
    "prediction = (A2 > 0.5) * 1.0\n",
    "#print(A2) \n",
    "print(\" Ejercicio 1 Practica 2 Python \\n\")\n",
    "print(\"(X1 and X2)\")\n",
    "print(prediction)"
   ]
  },
  {
   "cell_type": "code",
   "execution_count": 37,
   "metadata": {},
   "outputs": [
    {
     "name": "stdout",
     "output_type": "stream",
     "text": [
      "0 1 0 0\n"
     ]
    }
   ],
   "source": [
    "    a=int(prediction[0,0])\n",
    "    b= int(prediction[0,1])\n",
    "    c= int(prediction[0,2])\n",
    "    d= int(prediction[0,3])\n",
    "    print(a,b,c,d)\n",
    "    AND =[a,b,c,d]"
   ]
  },
  {
   "cell_type": "code",
   "execution_count": 45,
   "metadata": {},
   "outputs": [
    {
     "name": "stdout",
     "output_type": "stream",
     "text": [
      " Ejercicio 1 Practica 2 Python \n",
      "\n",
      "((X1  and   X2)   OR  X1\n",
      "( [0, 1, 0, 0]  ) OR  [1, 1, 0, 0]\n",
      "[[1. 1. 1. 1.]]\n"
     ]
    }
   ],
   "source": [
    "#((X1 and X2) OR X1)\n",
    "# Testing  AND & OR\n",
    "XOR = np.array([AND, x1]) # OR input \n",
    "costOR, _, A2OR = forwardPropagation(XOR, YOR, parametersOR) \n",
    "prediction = (A2OR > 0.5) * 1.0\n",
    "OR=prediction\n",
    "print(\" Ejercicio 2 Practica 2 Python \\n\")\n",
    "print(\"((X1  and   X2)   OR  X1\")\n",
    "print(\"(\",AND,\" ) OR \",x1)\n",
    "print(OR)"
   ]
  },
  {
   "cell_type": "code",
   "execution_count": null,
   "metadata": {},
   "outputs": [],
   "source": []
  },
  {
   "cell_type": "code",
   "execution_count": 33,
   "metadata": {},
   "outputs": [],
   "source": [
    "#     https://www.llipe.com/2017/04/19/programando-un-clasificador-perceptron-en-python/"
   ]
  }
 ],
 "metadata": {
  "kernelspec": {
   "display_name": "Python 3",
   "language": "python",
   "name": "python3"
  },
  "language_info": {
   "codemirror_mode": {
    "name": "ipython",
    "version": 3
   },
   "file_extension": ".py",
   "mimetype": "text/x-python",
   "name": "python",
   "nbconvert_exporter": "python",
   "pygments_lexer": "ipython3",
   "version": "3.7.6"
  }
 },
 "nbformat": 4,
 "nbformat_minor": 4
}
